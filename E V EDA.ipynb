{
 "cells": [
  {
   "cell_type": "code",
   "execution_count": null,
   "id": "4c91bc36",
   "metadata": {},
   "outputs": [],
   "source": [
    "import pandas as pd\n",
    "import numpy as np\n",
    "import seaborn as sns\n",
    "import matplotlib.pyplot as plt"
   ]
  },
  {
   "cell_type": "code",
   "execution_count": null,
   "id": "5568b511",
   "metadata": {},
   "outputs": [],
   "source": [
    "df = pd.read_csv(\"dataset.csv\")"
   ]
  },
  {
   "cell_type": "code",
   "execution_count": null,
   "id": "3c72b00d",
   "metadata": {},
   "outputs": [],
   "source": [
    "df.head()"
   ]
  },
  {
   "cell_type": "code",
   "execution_count": null,
   "id": "352483ab",
   "metadata": {},
   "outputs": [],
   "source": [
    "df.describe()"
   ]
  },
  {
   "cell_type": "code",
   "execution_count": null,
   "id": "a649e511",
   "metadata": {},
   "outputs": [],
   "source": [
    "df.info()"
   ]
  },
  {
   "cell_type": "code",
   "execution_count": null,
   "id": "86ba5427",
   "metadata": {},
   "outputs": [],
   "source": [
    "df.shape"
   ]
  },
  {
   "cell_type": "code",
   "execution_count": null,
   "id": "0f82bab8",
   "metadata": {},
   "outputs": [],
   "source": [
    "df.columns"
   ]
  },
  {
   "cell_type": "code",
   "execution_count": null,
   "id": "819bb7de",
   "metadata": {},
   "outputs": [],
   "source": [
    "df.columns = df.columns.str.replace(' ', '_')\n",
    "df.columns\n",
    "     "
   ]
  },
  {
   "cell_type": "code",
   "execution_count": null,
   "id": "e92eecfb",
   "metadata": {},
   "outputs": [],
   "source": [
    "df.rename(columns={'Clean_Alternative_Fuel_Vehicle_(CAFV)_Eligibility':'CAFV_Eligibility'}, inplace=True)\n",
    "df.columns"
   ]
  },
  {
   "cell_type": "code",
   "execution_count": null,
   "id": "6722838f",
   "metadata": {},
   "outputs": [],
   "source": [
    "print(df.isnull().sum())"
   ]
  },
  {
   "cell_type": "code",
   "execution_count": null,
   "id": "8bbf95c1",
   "metadata": {},
   "outputs": [],
   "source": [
    "df_dropna = df.dropna()\n",
    "\n",
    "df_dropna.info()"
   ]
  },
  {
   "cell_type": "code",
   "execution_count": null,
   "id": "2eb32098",
   "metadata": {},
   "outputs": [],
   "source": [
    "numerical_columns = ['Postal_Code', 'Model_Year', 'Electric_Range', 'Base_MSRP', 'Legislative_District', 'DOL_Vehicle_ID', '2020_Census_Tract']\n",
    "\n",
    "\n",
    "categorical_columns = ['VIN_(1-10)', 'County', 'City', 'State', 'Make', 'Model', 'Electric_Vehicle_Type', 'CAFV_Eligibility', 'Vehicle_Location', 'Electric_Utility']\n",
    "\n",
    "discrete_df = df.select_dtypes(include=['object'])\n",
    "numerical_df = df.select_dtypes(include=['int64', 'float64'])"
   ]
  },
  {
   "cell_type": "code",
   "execution_count": null,
   "id": "7847d28f",
   "metadata": {},
   "outputs": [],
   "source": [
    "def discrete_univariate_analysis(discrete_data):\n",
    "    for col_name in discrete_data:\n",
    "        print(\"-\"*10, col_name, \"-\"*10)\n",
    "        print(discrete_data[col_name].agg(['count', 'nunique', 'unique']))\n",
    "        print('Value Counts: \\n', discrete_data[col_name].value_counts())\n",
    "        print()"
   ]
  },
  {
   "cell_type": "code",
   "execution_count": null,
   "id": "6f7ed3d3",
   "metadata": {},
   "outputs": [],
   "source": [
    "discrete_univariate_analysis(discrete_df)"
   ]
  },
  {
   "cell_type": "code",
   "execution_count": null,
   "id": "c2239ad1",
   "metadata": {},
   "outputs": [],
   "source": [
    "def numerical_univariate_analysis(numerical_data):\n",
    "    for col_name in numerical_data:\n",
    "        print(\"-\"*10, col_name, \"-\"*10)\n",
    "        print(numerical_data[col_name].agg(['min', 'max', 'mean', 'median', 'std']))\n",
    "        print()"
   ]
  },
  {
   "cell_type": "code",
   "execution_count": null,
   "id": "099f6182",
   "metadata": {},
   "outputs": [],
   "source": [
    "numerical_univariate_analysis(numerical_df)"
   ]
  },
  {
   "cell_type": "code",
   "execution_count": null,
   "id": "391ac196",
   "metadata": {},
   "outputs": [],
   "source": [
    "sns.set(style=\"whitegrid\")# Univariate Analysis: Distribution of Numerical Columns\n",
    "\n",
    "# Plot histograms for numerical columns\n",
    "\n",
    "for column in numerical_columns:\n",
    "    plt.figure(figsize=(15, 10))\n",
    "    \n",
    "    sns.histplot(df[column], kde=True)\n",
    "    plt.title(f'Distribution of {column}')\n",
    "plt.tight_layout()\n",
    "plt.show()"
   ]
  },
  {
   "cell_type": "code",
   "execution_count": null,
   "id": "309affd4",
   "metadata": {},
   "outputs": [],
   "source": [
    "# Box plots for numerical columns\n",
    "\n",
    "for column in numerical_columns:\n",
    "    plt.figure(figsize=(15, 10))\n",
    "    \n",
    "    sns.boxplot(x=df[column])\n",
    "    plt.title(f'Box Plot of {column}')\n",
    "plt.tight_layout()\n",
    "plt.show()"
   ]
  },
  {
   "cell_type": "code",
   "execution_count": null,
   "id": "2366c955",
   "metadata": {},
   "outputs": [],
   "source": [
    "def describe_outliers(df, column):\n",
    "    Q1 = df[column].quantile(0.25)\n",
    "    Q3 = df[column].quantile(0.75)\n",
    "    IQR = Q3 - Q1\n",
    "    lower_bound = Q1 - 1.5 * IQR\n",
    "    upper_bound = Q3 + 1.5 * IQR\n",
    "    outliers = df[(df[column] < lower_bound) | (df[column] > upper_bound)]\n",
    "    print(f\"\\\n",
    "Column: {column}\")\n",
    "    print(f\"Number of outliers: {len(outliers)}\")\n",
    "    print(f\"Percentage of outliers: {len(outliers) / len(df) * 100:.2f}%\")\n",
    "    print(f\"Range of outliers: {outliers[column].min()} to {outliers[column].max()}\")\n",
    "    print(f\"Range of non-outliers: {df[(df[column] >= lower_bound) & (df[column] <= upper_bound)][column].min()} to {df[(df[column] >= lower_bound) & (df[column] <= upper_bound)][column].max()}\")\n",
    "\n",
    "for column in numerical_columns:\n",
    "    describe_outliers(df, column)"
   ]
  },
  {
   "cell_type": "code",
   "execution_count": null,
   "id": "b368ca49",
   "metadata": {},
   "outputs": [],
   "source": [
    "# Plot bar charts for categorical columns\n",
    "plt.figure(figsize=(15, 10))\n",
    "for i, column in enumerate(categorical_columns[:6], 1):  # Limiting to first 6 for clarity\n",
    "    plt.subplot(3, 2, i)\n",
    "    sns.countplot(y=df[column], order=df[column].value_counts().index[:10])\n",
    "    plt.title(f'Top 10 {column}')\n",
    "plt.tight_layout()\n",
    "plt.show()\n"
   ]
  },
  {
   "cell_type": "code",
   "execution_count": null,
   "id": "3b6b8e50",
   "metadata": {},
   "outputs": [],
   "source": [
    "# 1. Relationship between Model Year and Electric Range\n",
    "plt.figure(figsize=(12, 6))\n",
    "sns.scatterplot(x='Model_Year', y='Electric_Range', data=df)\n",
    "plt.title('Model Year vs Electric Range')\n",
    "plt.show()\n",
    "\n",
    "# 2. Comparison of Electric Range across different Electric Vehicle Types\n",
    "plt.figure(figsize=(12, 6))\n",
    "sns.boxplot(x='Electric_Vehicle_Type', y='Electric_Range', data=df)\n",
    "plt.title('Electric Range by Vehicle Type')\n",
    "plt.xticks(rotation=45)\n",
    "plt.show()\n",
    "\n",
    "# 3. Correlation between Electric Range and Base MSRP\n",
    "# First, let's check if Base MSRP has non-zero values\n",
    "if df['Base_MSRP'].sum() > 0:\n",
    "    plt.figure(figsize=(12, 6))\n",
    "    sns.scatterplot(x='Base_MSRP', y='Electric_Range', data=df)\n",
    "    plt.title('Base MSRP vs Electric Range')\n",
    "    plt.show()\n",
    "else:\n",
    "    print(\"Base MSRP column contains only zero values. Skipping this analysis.\")\n",
    "\n",
    "# 4. Distribution of Electric Vehicle Types across different States\n",
    "vehicle_type_by_state = df.groupby('State')['Electric_Vehicle_Type'].value_counts().unstack()\n",
    "plt.figure(figsize=(15, 8))\n",
    "vehicle_type_by_state.plot(kind='bar', stacked=True)\n",
    "plt.title('Distribution of Electric Vehicle Types across States')\n",
    "plt.xlabel('State')\n",
    "plt.ylabel('Count')\n",
    "plt.legend(title='Electric Vehicle Type', bbox_to_anchor=(1.05, 1), loc='upper left')\n",
    "plt.tight_layout()\n",
    "plt.show()"
   ]
  },
  {
   "cell_type": "code",
   "execution_count": null,
   "id": "7b77e9c2",
   "metadata": {},
   "outputs": [],
   "source": [
    "# 5. Correlation matrix for numerical variables\n",
    "plt.figure(figsize=(10, 8))\n",
    "correlation_matrix = df.corr()\n",
    "sns.heatmap(correlation_matrix, annot=True, cmap='coolwarm', fmt='.2f')\n",
    "plt.title('Correlation Matrix of Numerical Features')\n",
    "plt.show()\n",
    "\n",
    "# 6. Distribution of Electric Vehicle Types by Make\n",
    "plt.figure(figsize=(14, 7))\n",
    "sns.countplot(y='Make', hue='Electric_Vehicle_Type', data=df, order=df['Make'].value_counts().index)\n",
    "plt.title('Distribution of Electric Vehicle Types by Make')\n",
    "plt.xlabel('Count')\n",
    "plt.ylabel('Make')\n",
    "plt.legend(title='Electric Vehicle Type')\n",
    "plt.show()"
   ]
  },
  {
   "cell_type": "code",
   "execution_count": null,
   "id": "6e50dd3b",
   "metadata": {},
   "outputs": [],
   "source": [
    "# Assuming 'df' is your DataFrame\n",
    "df.boxplot(by=\"CAFV_Eligibility\", column=['Electric_Range'])\n",
    "\n",
    "# Rotate x-axis labels by 90 degrees\n",
    "plt.xticks(rotation=90)\n",
    "\n",
    "# Show the plot\n",
    "plt.show()"
   ]
  },
  {
   "cell_type": "code",
   "execution_count": null,
   "id": "730cbd92",
   "metadata": {},
   "outputs": [],
   "source": [
    "! pip install plotly"
   ]
  },
  {
   "cell_type": "code",
   "execution_count": null,
   "id": "783467d9",
   "metadata": {},
   "outputs": [],
   "source": [
    "import plotly.express as px"
   ]
  },
  {
   "cell_type": "code",
   "execution_count": null,
   "id": "ef7a2dde",
   "metadata": {},
   "outputs": [],
   "source": [
    "ev_count_by_state = df.groupby('State').size().reset_index(name='Number_of_EV_Vehicles')\n",
    "ev_count_by_state"
   ]
  },
  {
   "cell_type": "code",
   "execution_count": null,
   "id": "5eaf6076",
   "metadata": {},
   "outputs": [],
   "source": [
    "# Count the number of EVs per state\n",
    "ev_count_by_state = df['State'].value_counts().reset_index()\n",
    "ev_count_by_state.columns = ['State', 'EV_Count']\n",
    "\n",
    "# Create the Choropleth map\n",
    "fig = px.choropleth(ev_count_by_state,\n",
    "                    locations='State', \n",
    "                    locationmode=\"USA-states\", \n",
    "                    color='EV_Count',\n",
    "                    scope=\"usa\",\n",
    "                    color_continuous_scale=\"Viridis\",\n",
    "                    title=\"Number of Electric Vehicles by State\")\n",
    "\n",
    "# Update the layout\n",
    "fig.update_layout(\n",
    "    title_x=0.5,\n",
    "    geo_scope='usa',\n",
    ")\n",
    "\n",
    "fig.show()\n",
    "\n",
    "# Save the plot as an HTML file\n",
    "fig.write_html(\"ev_choropleth_map.html\")\n",
    "\n",
    "print(\"Choropleth map has been created and saved as 'ev_choropleth_map.html'.\")\n",
    "print(\"\\\n",
    "Top 5 states by EV count:\")\n",
    "print(ev_count_by_state.head().to_string(index=False))\n"
   ]
  },
  {
   "cell_type": "code",
   "execution_count": null,
   "id": "caa84ece",
   "metadata": {},
   "outputs": [],
   "source": [
    "import pandas as pd\n",
    "import plotly.express as px\n",
    "\n",
    "# Load the dataset\n",
    "df = pd.read_csv('dataset.csv', encoding='ascii')\n",
    "\n",
    "# Count the number of EVs per postal code\n",
    "ev_count_by_postal = df['Postal Code'].value_counts().reset_index()\n",
    "ev_count_by_postal.columns = ['Postal Code', 'EV_Count']\n",
    "\n",
    "# Merge the count with the original dataframe to get location data\n",
    "df_merged = df.merge(ev_count_by_postal, on='Postal Code')\n",
    "\n",
    "# Extract latitude and longitude from the 'Vehicle Location' column\n",
    "df_merged['Longitude'] = df_merged['Vehicle Location'].str.extract('POINT \\(([-\\d.]+) ')\n",
    "df_merged['Latitude'] = df_merged['Vehicle Location'].str.extract(' ([-\\d.]+)\\)')\n",
    "\n",
    "# Convert to numeric\n",
    "df_merged['Longitude'] = pd.to_numeric(df_merged['Longitude'])\n",
    "df_merged['Latitude'] = pd.to_numeric(df_merged['Latitude'])\n",
    "\n",
    "# Create the scatter plot on a map\n",
    "fig = px.scatter_mapbox(df_merged, \n",
    "                        lat='Latitude', \n",
    "                        lon='Longitude', \n",
    "                        color='EV_Count',\n",
    "                        size='EV_Count',\n",
    "                        hover_name='Postal Code',\n",
    "                        hover_data=['City', 'State', 'EV_Count'],\n",
    "                        color_continuous_scale=\"Viridis\",\n",
    "                        size_max=15,\n",
    "                        zoom=3,\n",
    "                        title=\"Number of Electric Vehicles by Postal Code\")\n",
    "\n",
    "fig.update_layout(mapbox_style=\"open-street-map\")\n",
    "fig.update_layout(margin={\"r\":0,\"t\":0,\"l\":0,\"b\":0})\n",
    "\n",
    "# Save the plot as an HTML file\n",
    "fig.write_html(\"ev_postal_code_map.html\")\n",
    "\n",
    "fig.show()\n",
    "\n",
    "print(\"Scatter map based on postal codes has been created and saved as 'ev_postal_code_map.html'.\")\n",
    "print(\"\\\n",
    "Top 10 postal codes by EV count:\")\n",
    "print(ev_count_by_postal.head(10).to_string(index=False))\n",
    "\n",
    "# Display some statistics\n",
    "print(\"\\\n",
    "Total number of unique postal codes:\", len(ev_count_by_postal))\n",
    "print(\"Average number of EVs per postal code:\", round(ev_count_by_postal['EV_Count'].mean(), 2))\n",
    "print(\"Median number of EVs per postal code:\", ev_count_by_postal['EV_Count'].median())\n",
    "print(\"Maximum number of EVs in a single postal code:\", ev_count_by_postal['EV_Count'].max())"
   ]
  },
  {
   "cell_type": "code",
   "execution_count": null,
   "id": "d47cf20c",
   "metadata": {},
   "outputs": [],
   "source": [
    "!pip install bar-chart-race"
   ]
  },
  {
   "cell_type": "code",
   "execution_count": null,
   "id": "40f08f50",
   "metadata": {},
   "outputs": [],
   "source": [
    "import bar_chart_race as bcr\n",
    "import warnings"
   ]
  },
  {
   "cell_type": "code",
   "execution_count": null,
   "id": "db0e4aa1",
   "metadata": {
    "scrolled": true
   },
   "outputs": [],
   "source": [
    "e bar chart race a# Convert 'Model Year' to string for grouping\n",
    "df['Model Year'] = df['Model Year'].astype(str)\n",
    "\n",
    "# Group the data by 'Model Year' and 'Make', then count the occurrences\n",
    "grouped_data = df.groupby(['Model Year', 'Make']).size().reset_index(name='Count')\n",
    "\n",
    "# Pivot the data to have 'Model Year' as the index and 'Make' as columns\n",
    "pivoted_data = grouped_data.pivot(index='Model Year', columns='Make', values='Count')\n",
    "\n",
    "# Fill missing values with 0 (for years where some makes might have no entries)\n",
    "pivoted_data = pivoted_data.fillna(0)\n",
    "\n",
    "# Create thnimation and save it as a GIF\n",
    "bcr.bar_chart_race(df=pivoted_data, filename='EV_racing_bar_plot.gif',\n",
    "                   orientation='h', sort='desc', n_bars=10,\n",
    "                   title='EV Make Count Over the Years', filter_column_colors=True, period_length=1000)"
   ]
  },
  {
   "cell_type": "code",
   "execution_count": null,
   "id": "5a048a66",
   "metadata": {},
   "outputs": [],
   "source": []
  },
  {
   "cell_type": "code",
   "execution_count": null,
   "id": "62bf6e43",
   "metadata": {},
   "outputs": [],
   "source": []
  },
  {
   "cell_type": "code",
   "execution_count": null,
   "id": "21a3df47",
   "metadata": {},
   "outputs": [],
   "source": []
  }
 ],
 "metadata": {
  "kernelspec": {
   "display_name": "Python 3 (ipykernel)",
   "language": "python",
   "name": "python3"
  },
  "language_info": {
   "codemirror_mode": {
    "name": "ipython",
    "version": 3
   },
   "file_extension": ".py",
   "mimetype": "text/x-python",
   "name": "python",
   "nbconvert_exporter": "python",
   "pygments_lexer": "ipython3",
   "version": "3.10.9"
  }
 },
 "nbformat": 4,
 "nbformat_minor": 5
}
